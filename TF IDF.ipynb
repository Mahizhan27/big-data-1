{
 "cells": [
  {
   "cell_type": "code",
   "execution_count": 35,
   "id": "a73aae93-b3e8-4633-a128-6459e577d13d",
   "metadata": {},
   "outputs": [],
   "source": [
    "import pandas as pd\n",
    "from sklearn.feature_extraction.text import TfidfVectorizer\n",
    "import string\n",
    "import re\n",
    "\n"
   ]
  },
  {
   "cell_type": "code",
   "execution_count": 37,
   "id": "a39b5698-aab9-4c32-839f-e62298d970e3",
   "metadata": {},
   "outputs": [],
   "source": [
    "# Function for basic text preprocessing"
   ]
  },
  {
   "cell_type": "code",
   "execution_count": 39,
   "id": "5041ed30-48b0-493f-8f2b-c0b5fe23ef45",
   "metadata": {},
   "outputs": [],
   "source": [
    "\n",
    "# Function for basic text preprocessing\n",
    "def preprocess_text(text):\n",
    "    # Convert to lowercase\n",
    "    text = text.lower()\n",
    "    \n",
    "    # Remove punctuation\n",
    "    text = text.translate(str.maketrans('', '', string.punctuation))\n",
    "    \n",
    "    # Remove numbers\n",
    "    text = re.sub(r'\\d+', '', text)\n",
    "    \n",
    "    # Remove extra whitespace\n",
    "    text = ' '.join(text.split())\n",
    "    \n",
    "    return text\n"
   ]
  },
  {
   "cell_type": "code",
   "execution_count": 58,
   "id": "e390247e-417d-473c-a80f-8758d7b21c6f",
   "metadata": {},
   "outputs": [],
   "source": [
    "data = pd.read_csv('4.csv')\n"
   ]
  },
  {
   "cell_type": "code",
   "execution_count": 60,
   "id": "39889052-8994-42cc-a7df-4d494e5f9067",
   "metadata": {},
   "outputs": [
    {
     "data": {
      "text/html": [
       "<div>\n",
       "<style scoped>\n",
       "    .dataframe tbody tr th:only-of-type {\n",
       "        vertical-align: middle;\n",
       "    }\n",
       "\n",
       "    .dataframe tbody tr th {\n",
       "        vertical-align: top;\n",
       "    }\n",
       "\n",
       "    .dataframe thead th {\n",
       "        text-align: right;\n",
       "    }\n",
       "</style>\n",
       "<table border=\"1\" class=\"dataframe\">\n",
       "  <thead>\n",
       "    <tr style=\"text-align: right;\">\n",
       "      <th></th>\n",
       "      <th>text</th>\n",
       "    </tr>\n",
       "  </thead>\n",
       "  <tbody>\n",
       "    <tr>\n",
       "      <th>0</th>\n",
       "      <td>\"The Cat sat on the mat.\"</td>\n",
       "    </tr>\n",
       "    <tr>\n",
       "      <th>1</th>\n",
       "      <td>\"The Dog sat oN the log.\"</td>\n",
       "    </tr>\n",
       "    <tr>\n",
       "      <th>2</th>\n",
       "      <td>\"The Dog sat On the log.\"</td>\n",
       "    </tr>\n",
       "  </tbody>\n",
       "</table>\n",
       "</div>"
      ],
      "text/plain": [
       "                        text\n",
       "0  \"The Cat sat on the mat.\"\n",
       "1  \"The Dog sat oN the log.\"\n",
       "2  \"The Dog sat On the log.\""
      ]
     },
     "execution_count": 60,
     "metadata": {},
     "output_type": "execute_result"
    }
   ],
   "source": [
    "data"
   ]
  },
  {
   "cell_type": "code",
   "execution_count": 62,
   "id": "e64c03f2-105c-427b-bc6d-dac42330184d",
   "metadata": {},
   "outputs": [],
   "source": [
    "# Preprocess the text data\n",
    "data['text_preprocessed'] = data['text'].apply(preprocess_text)\n"
   ]
  },
  {
   "cell_type": "code",
   "execution_count": 64,
   "id": "5843ab94-1936-492f-9545-c013cf866508",
   "metadata": {},
   "outputs": [
    {
     "data": {
      "text/html": [
       "<div>\n",
       "<style scoped>\n",
       "    .dataframe tbody tr th:only-of-type {\n",
       "        vertical-align: middle;\n",
       "    }\n",
       "\n",
       "    .dataframe tbody tr th {\n",
       "        vertical-align: top;\n",
       "    }\n",
       "\n",
       "    .dataframe thead th {\n",
       "        text-align: right;\n",
       "    }\n",
       "</style>\n",
       "<table border=\"1\" class=\"dataframe\">\n",
       "  <thead>\n",
       "    <tr style=\"text-align: right;\">\n",
       "      <th></th>\n",
       "      <th>text</th>\n",
       "      <th>text_preprocessed</th>\n",
       "    </tr>\n",
       "  </thead>\n",
       "  <tbody>\n",
       "    <tr>\n",
       "      <th>0</th>\n",
       "      <td>\"The Cat sat on the mat.\"</td>\n",
       "      <td>the cat sat on the mat</td>\n",
       "    </tr>\n",
       "    <tr>\n",
       "      <th>1</th>\n",
       "      <td>\"The Dog sat oN the log.\"</td>\n",
       "      <td>the dog sat on the log</td>\n",
       "    </tr>\n",
       "    <tr>\n",
       "      <th>2</th>\n",
       "      <td>\"The Dog sat On the log.\"</td>\n",
       "      <td>the dog sat on the log</td>\n",
       "    </tr>\n",
       "  </tbody>\n",
       "</table>\n",
       "</div>"
      ],
      "text/plain": [
       "                        text       text_preprocessed\n",
       "0  \"The Cat sat on the mat.\"  the cat sat on the mat\n",
       "1  \"The Dog sat oN the log.\"  the dog sat on the log\n",
       "2  \"The Dog sat On the log.\"  the dog sat on the log"
      ]
     },
     "execution_count": 64,
     "metadata": {},
     "output_type": "execute_result"
    }
   ],
   "source": [
    "data"
   ]
  },
  {
   "cell_type": "code",
   "execution_count": 66,
   "id": "aff90278-89de-40cf-8594-23050b5cc99c",
   "metadata": {},
   "outputs": [],
   "source": [
    "# Initialize the TF-IDF Vectorizer\n",
    "tfidf_vectorizer = TfidfVectorizer()\n"
   ]
  },
  {
   "cell_type": "code",
   "execution_count": 68,
   "id": "74d81cfd-5faf-4bf3-853c-bb61572ca56c",
   "metadata": {},
   "outputs": [],
   "source": [
    "# Compute the TF-IDF matrix\n",
    "tfidf_matrix = tfidf_vectorizer.fit_transform(data['text_preprocessed'])\n",
    "\n"
   ]
  },
  {
   "cell_type": "code",
   "execution_count": 70,
   "id": "a97b515a-41a4-474b-bc9d-799669ca49eb",
   "metadata": {},
   "outputs": [],
   "source": [
    "# Get feature names (terms)\n",
    "feature_names = tfidf_vectorizer.get_feature_names_out()\n",
    "\n"
   ]
  },
  {
   "cell_type": "code",
   "execution_count": null,
   "id": "4f43a9c5-cd66-4f85-b66e-f11e288a5f20",
   "metadata": {},
   "outputs": [],
   "source": []
  },
  {
   "cell_type": "code",
   "execution_count": 83,
   "id": "5e638b6c-95e5-4eca-936c-3ccb6781d22b",
   "metadata": {},
   "outputs": [
    {
     "name": "stdout",
     "output_type": "stream",
     "text": [
      "TF-IDF SCORES\n",
      "                 Document       cat       dog       log       mat        on  \\\n",
      "0  the cat sat on the mat  0.494289  0.000000  0.000000  0.494289  0.291935   \n",
      "1  the dog sat on the log  0.000000  0.421879  0.421879  0.000000  0.327627   \n",
      "2  the dog sat on the log  0.000000  0.421879  0.421879  0.000000  0.327627   \n",
      "\n",
      "        sat       the  \n",
      "0  0.291935  0.583870  \n",
      "1  0.327627  0.655254  \n",
      "2  0.327627  0.655254  \n"
     ]
    }
   ],
   "source": [
    "print(\"TF-IDF SCORES\")\n",
    "dense_matrix = tfidf_matrix.toarray()\n",
    "\n",
    "# Create a DataFrame\n",
    "df_tfidf = pd.DataFrame(dense_matrix, columns=feature_names)\n",
    "\n",
    "# Add document identifiers or actual document text for better clarity (optional)\n",
    "df_tfidf.insert(0, 'Document', data['text_preprocessed'])\n",
    "\n",
    "# Display the DataFrame\n",
    "print(df_tfidf)"
   ]
  },
  {
   "cell_type": "code",
   "execution_count": null,
   "id": "b7a2bc74-ebee-4465-9b31-498ea84d1ca6",
   "metadata": {},
   "outputs": [],
   "source": []
  },
  {
   "cell_type": "code",
   "execution_count": null,
   "id": "22d86300-d251-4f59-b834-f296845baeba",
   "metadata": {},
   "outputs": [],
   "source": []
  }
 ],
 "metadata": {
  "kernelspec": {
   "display_name": "Python 3 (ipykernel)",
   "language": "python",
   "name": "python3"
  },
  "language_info": {
   "codemirror_mode": {
    "name": "ipython",
    "version": 3
   },
   "file_extension": ".py",
   "mimetype": "text/x-python",
   "name": "python",
   "nbconvert_exporter": "python",
   "pygments_lexer": "ipython3",
   "version": "3.12.4"
  }
 },
 "nbformat": 4,
 "nbformat_minor": 5
}
